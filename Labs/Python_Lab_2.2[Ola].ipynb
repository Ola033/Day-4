{
 "cells": [
  {
   "cell_type": "markdown",
   "metadata": {
    "id": "E9Y5ss1ZYj3r"
   },
   "source": [
    "# Python_Lab_2.2\n"
   ]
  },
  {
   "cell_type": "markdown",
   "metadata": {
    "id": "Q1kAqc72Yj3t"
   },
   "source": [
    "### Task 1\n",
    "1. Write a program that prompts the user to enter two numbers and prints their division. Handle cases where the user enters non-numeric values or attempts to divide by zero using a try-except block.\n"
   ]
  },
  {
   "cell_type": "code",
   "execution_count": 2,
   "metadata": {
    "id": "H-xyoRTVYj3t"
   },
   "outputs": [
    {
     "name": "stdin",
     "output_type": "stream",
     "text": [
      "Enter the first number:  1\n",
      "Enter the second number:  1\n"
     ]
    },
    {
     "name": "stdout",
     "output_type": "stream",
     "text": [
      "The result of 1.0 divided by 1.0 is: 1.0\n"
     ]
    }
   ],
   "source": [
    "# write your code here ^_^\n",
    "\n",
    "def divide_numbers():\n",
    "    try: \n",
    "        \n",
    "        num1 = float(input(\"Enter the first number: \"))\n",
    "        num2 = float(input(\"Enter the second number: \"))\n",
    "        \n",
    "        \n",
    "        result = num1 / num2\n",
    "        print(f\"The result of {num1} divided by {num2} is: {result}\")\n",
    "\n",
    "    except ValueError:\n",
    "        \n",
    "        print(\"Error: Please enter valid numeric values.\")\n",
    "    except ZeroDivisionError:\n",
    "      \n",
    "        print(\"Error: Division by zero is not allowed.\")\n",
    "\n",
    "\n",
    "divide_numbers()\n"
   ]
  },
  {
   "cell_type": "markdown",
   "metadata": {
    "id": "CPWcDSC_Yj3u"
   },
   "source": [
    "### Task 2\n",
    "- Use \"Random\" library to do the following:\n",
    "    1. Create a list of random numbers using list comprehension.\n",
    "    2. Create a list of squares of the even numbers from random numbers using list comprehension.\n",
    "    3. Create a list of tuples (number, square) for random numbers using list comprehension."
   ]
  },
  {
   "cell_type": "code",
   "execution_count": 6,
   "metadata": {
    "id": "Yfq-i6CeYj3u"
   },
   "outputs": [
    {
     "name": "stdout",
     "output_type": "stream",
     "text": [
      "Random Numbers: [23, 29, 105, 65, 93, 50, 30, 135, 42]\n",
      "Squares of Even Numbers: [2500, 900, 1764]\n",
      "Number and Square Tuples: [(23, 529), (29, 841), (105, 11025), (65, 4225), (93, 8649), (50, 2500), (30, 900), (135, 18225), (42, 1764)]\n"
     ]
    }
   ],
   "source": [
    "# write your code here ^_^\n",
    "\n",
    "import random\n",
    "\n",
    "\n",
    "random_numbers = [random.randint(1, 150) for _ in range(9)]\n",
    "print(\"Random Numbers:\", random_numbers)\n",
    "\n",
    "\n",
    "even_squares = [num**2 for num in random_numbers if num % 2 == 0]\n",
    "print(\"Squares of Even Numbers:\", even_squares)\n",
    "\n",
    "#\n",
    "number_square_tuples = [(num, num**2) for num in random_numbers]\n",
    "print(\"Number and Square Tuples:\", number_square_tuples)\n",
    "\n",
    "\n",
    "\n",
    "\n"
   ]
  },
  {
   "cell_type": "markdown",
   "metadata": {
    "id": "jYdOq46NYj3u"
   },
   "source": [
    "### Task 3\n",
    "- Create a dictionary where the keys are numbers from 1 to 5 and the values are list of their squares and cubes.\n",
    "\n",
    "  - **hint**: use dictionary of list comprehension.\n",
    "\n",
    "- Create a dictionary from two lists (one with keys and one with values) using dictionary comprehension.\n",
    "\n"
   ]
  },
  {
   "cell_type": "code",
   "execution_count": 8,
   "metadata": {
    "id": "IEnsiNmCYj3u"
   },
   "outputs": [
    {
     "name": "stdout",
     "output_type": "stream",
     "text": [
      "Squares and Cubes Dictionary:\n",
      "{1: [1, 1], 2: [4, 8], 3: [9, 27], 4: [16, 64], 5: [25, 125]}\n"
     ]
    }
   ],
   "source": [
    "# write your code here ^_^\n",
    "\n",
    "\n",
    "squares_and_cubes = {num: [num**2, num**3] for num in range(1, 6)}\n",
    "\n",
    "print(\"Squares and Cubes Dictionary:\")\n",
    "print(squares_and_cubes)\n",
    "\n"
   ]
  },
  {
   "cell_type": "markdown",
   "metadata": {
    "id": "6T9TCQ8SYj3v"
   },
   "source": [
    "### Task 4\n",
    "- Given a dictionary where keys are student names and values are lists of their scores, write a function that updates the scores of students who have achieved a perfect score (100) by adding a bonus of 5 points to each score. Use dictionary comprehension to achieve this.\n",
    "\n",
    "    - Implement the function add_bonus_to_perfect_scores(student_scores) that adds a bonus of 5 points to each score of students who have achieved a perfect score (100)."
   ]
  },
  {
   "cell_type": "code",
   "execution_count": 12,
   "metadata": {
    "id": "T3R_VsQpYj3v"
   },
   "outputs": [
    {
     "name": "stdout",
     "output_type": "stream",
     "text": [
      "Updated Student Scores:\n",
      "{'Sara': [95, 105, 88], 'Maha': [105, 76, 105], 'Ola': [85, 90, 92], 'Dana': [105, 105, 105]}\n"
     ]
    }
   ],
   "source": [
    "# write your code here ^_^\n",
    "\n",
    "def add_bonus_to_perfect_scores(student_scores):\n",
    "    \n",
    "    updated_scores = {\n",
    "        student: [score + 5 if score == 100 else score for score in scores]\n",
    "        for student, scores in student_scores.items()\n",
    "    }\n",
    "    return updated_scores\n",
    "\n",
    "\n",
    "student_scores = {\n",
    "    \"Sara\": [95, 100, 88],\n",
    "    \"Maha\": [100, 76, 100],\n",
    "    \"Ola\": [85, 90, 92],\n",
    "    \"Dana\": [100, 100, 100]\n",
    "}\n",
    "\n",
    "updated_student_scores = add_bonus_to_perfect_scores(student_scores)\n",
    "\n",
    "print(\"Updated Student Scores:\")\n",
    "print(updated_student_scores)\n",
    "\n"
   ]
  },
  {
   "cell_type": "markdown",
   "metadata": {
    "id": "rJkOEFAwYj3v"
   },
   "source": []
  }
 ],
 "metadata": {
  "colab": {
   "provenance": []
  },
  "kernelspec": {
   "display_name": "Python 3 (ipykernel)",
   "language": "python",
   "name": "python3"
  },
  "language_info": {
   "codemirror_mode": {
    "name": "ipython",
    "version": 3
   },
   "file_extension": ".py",
   "mimetype": "text/x-python",
   "name": "python",
   "nbconvert_exporter": "python",
   "pygments_lexer": "ipython3",
   "version": "3.12.4"
  }
 },
 "nbformat": 4,
 "nbformat_minor": 4
}
